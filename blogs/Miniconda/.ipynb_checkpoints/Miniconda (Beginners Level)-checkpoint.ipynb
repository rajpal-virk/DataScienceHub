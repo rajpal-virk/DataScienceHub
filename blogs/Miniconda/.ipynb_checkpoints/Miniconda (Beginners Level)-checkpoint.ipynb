{
 "cells": [
  {
   "cell_type": "markdown",
   "id": "62da756b",
   "metadata": {
    "slideshow": {
     "slide_type": "slide"
    }
   },
   "source": [
    "<h1><center>Miniconda (Conda)</center></h1>\n",
    "<p><center>(The Beginners Level)</center></p>"
   ]
  },
  {
   "cell_type": "markdown",
   "id": "bdabbe9c",
   "metadata": {
    "slideshow": {
     "slide_type": "fragment"
    }
   },
   "source": [
    "## Topics Covered"
   ]
  },
  {
   "cell_type": "markdown",
   "id": "f7ffcf4d",
   "metadata": {
    "slideshow": {
     "slide_type": "fragment"
    }
   },
   "source": [
    "General Introduction"
   ]
  },
  {
   "cell_type": "markdown",
   "id": "6cec82d3",
   "metadata": {
    "slideshow": {
     "slide_type": "fragment"
    }
   },
   "source": [
    "Installation"
   ]
  },
  {
   "cell_type": "markdown",
   "id": "d36371d1",
   "metadata": {
    "slideshow": {
     "slide_type": "fragment"
    }
   },
   "source": [
    "Useful commands"
   ]
  },
  {
   "cell_type": "markdown",
   "id": "312c46aa",
   "metadata": {
    "slideshow": {
     "slide_type": "slide"
    }
   },
   "source": [
    "## About Miniconda"
   ]
  },
  {
   "cell_type": "markdown",
   "id": "28948a78",
   "metadata": {
    "slideshow": {
     "slide_type": "fragment"
    }
   },
   "source": [
    "Miniconda:"
   ]
  },
  {
   "cell_type": "markdown",
   "id": "44105695",
   "metadata": {
    "slideshow": {
     "slide_type": "fragment"
    }
   },
   "source": [
    "- is free, minimal version of Conda"
   ]
  },
  {
   "cell_type": "markdown",
   "id": "dea47541",
   "metadata": {
    "slideshow": {
     "slide_type": "fragment"
    }
   },
   "source": [
    "Conda:"
   ]
  },
  {
   "cell_type": "markdown",
   "id": "d0746b13",
   "metadata": {
    "slideshow": {
     "slide_type": "fragment"
    }
   },
   "source": [
    "- is an Environment, Package and Dependency Manager"
   ]
  },
  {
   "cell_type": "markdown",
   "id": "21f49175",
   "metadata": {
    "slideshow": {
     "slide_type": "fragment"
    }
   },
   "source": [
    "- can be used for any language -- Python, R, Ruby, Lua, Scala, Java, JavaScript, C/ C++, FORTRAN"
   ]
  },
  {
   "cell_type": "markdown",
   "id": "73ef1247",
   "metadata": {
    "slideshow": {
     "slide_type": "fragment"
    }
   },
   "source": [
    "- runs on all 3 operating systems -- Windows, MacOS and Linux"
   ]
  },
  {
   "cell_type": "markdown",
   "id": "4aea8cc8",
   "metadata": {
    "slideshow": {
     "slide_type": "slide"
    }
   },
   "source": [
    "## More About Conda"
   ]
  },
  {
   "cell_type": "markdown",
   "id": "eb93ec5a",
   "metadata": {
    "slideshow": {
     "slide_type": "subslide"
    }
   },
   "source": [
    "Conda as Environment Manager helps users to:"
   ]
  },
  {
   "cell_type": "markdown",
   "id": "7a6c114a",
   "metadata": {
    "slideshow": {
     "slide_type": "fragment"
    }
   },
   "source": [
    "- create a new environment"
   ]
  },
  {
   "cell_type": "markdown",
   "id": "e7299f66",
   "metadata": {
    "slideshow": {
     "slide_type": "fragment"
    }
   },
   "source": [
    "- check existing environments"
   ]
  },
  {
   "cell_type": "markdown",
   "id": "8e086680",
   "metadata": {
    "slideshow": {
     "slide_type": "fragment"
    }
   },
   "source": [
    "- switch quickly between environments"
   ]
  },
  {
   "cell_type": "markdown",
   "id": "559a5be9",
   "metadata": {
    "slideshow": {
     "slide_type": "fragment"
    }
   },
   "source": [
    "- remove environments"
   ]
  },
  {
   "cell_type": "markdown",
   "id": "8c5ad3fb",
   "metadata": {
    "slideshow": {
     "slide_type": "subslide"
    }
   },
   "source": [
    "Conda as Package and Dependency Manager helps users to:"
   ]
  },
  {
   "cell_type": "markdown",
   "id": "984739d0",
   "metadata": {
    "slideshow": {
     "slide_type": "fragment"
    }
   },
   "source": [
    "- search packages"
   ]
  },
  {
   "cell_type": "markdown",
   "id": "0add7a2d",
   "metadata": {
    "slideshow": {
     "slide_type": "fragment"
    }
   },
   "source": [
    "- install packages"
   ]
  },
  {
   "cell_type": "markdown",
   "id": "06eba93b",
   "metadata": {
    "slideshow": {
     "slide_type": "fragment"
    }
   },
   "source": [
    "- update packages"
   ]
  },
  {
   "cell_type": "markdown",
   "id": "2efa1e17",
   "metadata": {
    "slideshow": {
     "slide_type": "fragment"
    }
   },
   "source": [
    "- remove packages"
   ]
  },
  {
   "cell_type": "markdown",
   "id": "517231b6",
   "metadata": {
    "slideshow": {
     "slide_type": "slide"
    }
   },
   "source": [
    "## Install Miniconda and Verify Installation"
   ]
  },
  {
   "cell_type": "markdown",
   "id": "a0a45a8e",
   "metadata": {
    "slideshow": {
     "slide_type": "fragment"
    }
   },
   "source": [
    "3-Step Process"
   ]
  },
  {
   "cell_type": "markdown",
   "id": "f560347a",
   "metadata": {
    "slideshow": {
     "slide_type": "fragment"
    }
   },
   "source": [
    "1. [Download Installer](https://docs.conda.io/en/latest/miniconda.html)"
   ]
  },
  {
   "cell_type": "markdown",
   "id": "f659bb71",
   "metadata": {
    "slideshow": {
     "slide_type": "fragment"
    }
   },
   "source": [
    "2. Install Miniconda"
   ]
  },
  {
   "cell_type": "markdown",
   "id": "c91bd0d9",
   "metadata": {
    "slideshow": {
     "slide_type": "fragment"
    }
   },
   "source": [
    "3. Verify Installation"
   ]
  },
  {
   "cell_type": "markdown",
   "id": "99d56848",
   "metadata": {
    "slideshow": {
     "slide_type": "slide"
    }
   },
   "source": [
    "## Manage Environments"
   ]
  },
  {
   "cell_type": "markdown",
   "id": "870e544e",
   "metadata": {
    "slideshow": {
     "slide_type": "subslide"
    }
   },
   "source": [
    "#### Check existing environments"
   ]
  },
  {
   "cell_type": "markdown",
   "id": "a4b8ad39",
   "metadata": {
    "slideshow": {
     "slide_type": "fragment"
    }
   },
   "source": [
    "<div style=\"border-color:teal; border-style:solid; border-width: 2px 2px 2px 6px\">\n",
    "<code style=\"font-family:Courier New; color:tomato\">conda info -e</code>\n",
    "    </div>"
   ]
  },
  {
   "cell_type": "markdown",
   "id": "aca12112",
   "metadata": {
    "slideshow": {
     "slide_type": "subslide"
    }
   },
   "source": [
    "#### Create New Environment"
   ]
  },
  {
   "cell_type": "markdown",
   "id": "8b8bedb2",
   "metadata": {
    "slideshow": {
     "slide_type": "fragment"
    }
   },
   "source": [
    "<div style=\"border-color:teal; border-style:solid; border-width: 2px 2px 2px 6px\">\n",
    "<code style=\"font-family:Courier New; color:tomato\">conda create -n ENVNAME</code>\n",
    "    </div>"
   ]
  },
  {
   "cell_type": "markdown",
   "id": "8e60016c",
   "metadata": {
    "slideshow": {
     "slide_type": "subslide"
    }
   },
   "source": [
    "#### Activate Environment (or Switch Between Different Environments)"
   ]
  },
  {
   "cell_type": "markdown",
   "id": "bbde91e5",
   "metadata": {
    "slideshow": {
     "slide_type": "fragment"
    }
   },
   "source": [
    "<div style=\"border-color:teal; border-style:solid; border-width: 2px 2px 2px 6px\">\n",
    "<code style=\"font-family:Courier New; color:tomato\">conda activate ENVNAME</code>\n",
    "    </div>"
   ]
  },
  {
   "cell_type": "markdown",
   "id": "331e5378",
   "metadata": {
    "slideshow": {
     "slide_type": "subslide"
    }
   },
   "source": [
    "#### Deactivate Environment"
   ]
  },
  {
   "cell_type": "markdown",
   "id": "c5e395ce",
   "metadata": {
    "slideshow": {
     "slide_type": "fragment"
    }
   },
   "source": [
    "<div style=\"border-color:teal; border-style:solid; border-width: 2px 2px 2px 6px\">\n",
    "<code style=\"font-family:Courier New; color:tomato\">conda deactivate</code>\n",
    "    </div>"
   ]
  },
  {
   "cell_type": "markdown",
   "id": "f73fa126",
   "metadata": {
    "slideshow": {
     "slide_type": "subslide"
    }
   },
   "source": [
    "#### Delete Environment"
   ]
  },
  {
   "cell_type": "markdown",
   "id": "f9c6c44f",
   "metadata": {
    "slideshow": {
     "slide_type": "fragment"
    }
   },
   "source": [
    "<div style=\"border-color:teal; border-style:solid; border-width: 2px 2px 2px 6px\">\n",
    "<code style=\"font-family:Courier New; color:tomato\">conda remove -n ENVNAME --all</code>\n",
    "    </div>"
   ]
  },
  {
   "cell_type": "markdown",
   "id": "4f61eb3e",
   "metadata": {
    "slideshow": {
     "slide_type": "slide"
    }
   },
   "source": [
    "## Packages"
   ]
  },
  {
   "cell_type": "markdown",
   "id": "9932281d",
   "metadata": {
    "slideshow": {
     "slide_type": "subslide"
    }
   },
   "source": [
    "#### Check all installed packages"
   ]
  },
  {
   "cell_type": "markdown",
   "id": "ac247be9",
   "metadata": {
    "slideshow": {
     "slide_type": "fragment"
    }
   },
   "source": [
    "<div style=\"border-color:teal; border-style:solid; border-width: 2px 2px 2px 6px\">\n",
    "<code style=\"font-family:Courier New; color:tomato\">conda list</code>\n",
    "    </div>"
   ]
  },
  {
   "cell_type": "markdown",
   "id": "5c565cc2",
   "metadata": {
    "slideshow": {
     "slide_type": "subslide"
    }
   },
   "source": [
    "#### Check specific installed package"
   ]
  },
  {
   "cell_type": "markdown",
   "id": "2be5498a",
   "metadata": {
    "slideshow": {
     "slide_type": "fragment"
    }
   },
   "source": [
    "<div style=\"border-color:teal; border-style:solid; border-width: 2px 2px 2px 6px\">\n",
    "<code style=\"font-family:Courier New; color:tomato\">conda list PKGNAME</code>\n",
    "    </div>"
   ]
  },
  {
   "cell_type": "markdown",
   "id": "a09a816c",
   "metadata": {
    "slideshow": {
     "slide_type": "slide"
    }
   },
   "source": [
    "#### Extract list of installed packages as Text file"
   ]
  },
  {
   "cell_type": "markdown",
   "id": "eafe6dd3",
   "metadata": {
    "slideshow": {
     "slide_type": "fragment"
    }
   },
   "source": [
    "<div style=\"border-color:teal; border-style:solid; border-width: 2px 2px 2px 6px\">\n",
    "<code style=\"font-family:Courier New; color:tomato\">conda list > FileLocation/FileName.txt</code>\n",
    "    </div>"
   ]
  },
  {
   "cell_type": "markdown",
   "id": "703e023e",
   "metadata": {
    "slideshow": {
     "slide_type": "subslide"
    }
   },
   "source": [
    "#### Search specific package for installation"
   ]
  },
  {
   "cell_type": "markdown",
   "id": "6d1aa5c7",
   "metadata": {
    "slideshow": {
     "slide_type": "fragment"
    }
   },
   "source": [
    "<div style=\"border-color:teal; border-style:solid; border-width: 2px 2px 2px 6px\">\n",
    "<code style=\"font-family:Courier New; color:tomato\">conda search PKGNAME</code>\n",
    "    </div>"
   ]
  },
  {
   "cell_type": "markdown",
   "id": "7abae7f8",
   "metadata": {
    "slideshow": {
     "slide_type": "subslide"
    }
   },
   "source": [
    "#### Install specific package"
   ]
  },
  {
   "cell_type": "markdown",
   "id": "8713bd6a",
   "metadata": {
    "slideshow": {
     "slide_type": "fragment"
    }
   },
   "source": [
    "<div style=\"border-color:teal; border-style:solid; border-width: 2px 2px 2px 6px\">\n",
    "<code style=\"font-family:Courier New; color:tomato\">conda install PKGNAME</code>\n",
    "    </div>"
   ]
  },
  {
   "cell_type": "markdown",
   "id": "d47bb71c",
   "metadata": {
    "slideshow": {
     "slide_type": "subslide"
    }
   },
   "source": [
    "#### Uninstall specific package"
   ]
  },
  {
   "cell_type": "markdown",
   "id": "719edfa0",
   "metadata": {
    "slideshow": {
     "slide_type": "fragment"
    }
   },
   "source": [
    "<div style=\"border-color:teal; border-style:solid; border-width: 2px 2px 2px 6px\">\n",
    "<code style=\"font-family:Courier New; color:tomato\">conda remove PKGNAME</code>\n",
    "    </div>"
   ]
  }
 ],
 "metadata": {
  "celltoolbar": "Slideshow",
  "kernelspec": {
   "display_name": "Python 3",
   "language": "python",
   "name": "python3"
  },
  "language_info": {
   "codemirror_mode": {
    "name": "ipython",
    "version": 3
   },
   "file_extension": ".py",
   "mimetype": "text/x-python",
   "name": "python",
   "nbconvert_exporter": "python",
   "pygments_lexer": "ipython3",
   "version": "3.9.2"
  }
 },
 "nbformat": 4,
 "nbformat_minor": 5
}
